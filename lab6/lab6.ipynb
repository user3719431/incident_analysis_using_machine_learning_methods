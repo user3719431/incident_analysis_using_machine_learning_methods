{
 "cells": [
  {
   "cell_type": "markdown",
   "metadata": {},
   "source": [
    "Лабораторна робота №6\n",
    "\n",
    "Метод DBSCAN і A/B тестування"
   ]
  }
 ],
 "metadata": {
  "language_info": {
   "name": "python"
  }
 },
 "nbformat": 4,
 "nbformat_minor": 2
}
